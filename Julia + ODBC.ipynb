{
 "cells": [
  {
   "cell_type": "code",
   "execution_count": 26,
   "metadata": {
    "scrolled": true
   },
   "outputs": [
    {
     "name": "stdout",
     "output_type": "stream",
     "text": [
      "\u001b[32m\u001b[1m  Updating\u001b[22m\u001b[39m registry at `C:\\Users\\atend\\.julia\\registries\\General`\n",
      "\u001b[32m\u001b[1m  Updating\u001b[22m\u001b[39m git-repo `https://github.com/JuliaRegistries/General.git`\n",
      "\u001b[2K\u001b[?25h[1mFetching:\u001b[22m\u001b[39m [========================================>]  100.0 %.0 %\u001b[32m\u001b[1m Resolving\u001b[22m\u001b[39m package versions...\n",
      "\u001b[32m\u001b[1m  Updating\u001b[22m\u001b[39m `C:\\Users\\atend\\.julia\\environments\\v1.3\\Project.toml`\n",
      "\u001b[90m [no changes]\u001b[39m\n",
      "\u001b[32m\u001b[1m  Updating\u001b[22m\u001b[39m `C:\\Users\\atend\\.julia\\environments\\v1.3\\Manifest.toml`\n",
      "\u001b[90m [no changes]\u001b[39m\n",
      "\u001b[32m\u001b[1m Resolving\u001b[22m\u001b[39m package versions...\n",
      "\u001b[32m\u001b[1m  Updating\u001b[22m\u001b[39m `C:\\Users\\atend\\.julia\\environments\\v1.3\\Project.toml`\n",
      "\u001b[90m [no changes]\u001b[39m\n",
      "\u001b[32m\u001b[1m  Updating\u001b[22m\u001b[39m `C:\\Users\\atend\\.julia\\environments\\v1.3\\Manifest.toml`\n",
      "\u001b[90m [no changes]\u001b[39m\n"
     ]
    }
   ],
   "source": [
    "using Pkg;\n",
    "\n",
    "Pkg.add(\"ODBC\");\n",
    "Pkg.add(\"DataFrames\");\n",
    "\n",
    "using ODBC;\n",
    "using DataFrames;"
   ]
  },
  {
   "cell_type": "code",
   "execution_count": 28,
   "metadata": {},
   "outputs": [],
   "source": [
    "open(\"FileCredentials.txt\", \"w\") do io\n",
    "           write(io, \"SQLSERVER\\n\")\n",
    "           write(io, \"logon\\n\")\n",
    "           write(io, \"11111111\\n\")\n",
    "           end;"
   ]
  },
  {
   "cell_type": "code",
   "execution_count": 43,
   "metadata": {},
   "outputs": [],
   "source": [
    "login = readlines(\"FileCredentials.txt\")\n",
    "credenciais = ODBC.DSN(login[1],\n",
    "                       login[2],\n",
    "                       login[3]);"
   ]
  },
  {
   "cell_type": "code",
   "execution_count": 44,
   "metadata": {},
   "outputs": [
    {
     "data": {
      "text/html": [
       "<table class=\"data-frame\"><thead><tr><th></th><th>Nome</th><th>BirthDate</th><th>MaritalStatus</th><th>Education</th><th>TotalChildren</th></tr><tr><th></th><th>String⍰</th><th>ODBC…⍰</th><th>String⍰</th><th>String⍰</th><th>Int8⍰</th></tr></thead><tbody><p>10 rows × 5 columns</p><tr><th>1</th><td>Julia Yang</td><td>1966-04-08</td><td>M</td><td>Bachelors</td><td>2</td></tr><tr><th>2</th><td>Eugene Huang</td><td>1965-05-14</td><td>S</td><td>Bachelors</td><td>3</td></tr><tr><th>3</th><td>Ruben Torres</td><td>1965-08-12</td><td>M</td><td>Bachelors</td><td>3</td></tr><tr><th>4</th><td>Christy Zhu</td><td>1968-02-15</td><td>S</td><td>Bachelors</td><td>0</td></tr><tr><th>5</th><td>Elizabeth Johnson</td><td>1968-08-08</td><td>S</td><td>Bachelors</td><td>5</td></tr><tr><th>6</th><td>Julio Ruiz</td><td>1965-08-05</td><td>S</td><td>Bachelors</td><td>0</td></tr><tr><th>7</th><td>Janet Alvarez</td><td>1965-12-06</td><td>S</td><td>Bachelors</td><td>0</td></tr><tr><th>8</th><td>Marco Mehta</td><td>1964-05-09</td><td>M</td><td>Bachelors</td><td>3</td></tr><tr><th>9</th><td>Rob Verhoff</td><td>1964-07-07</td><td>S</td><td>Bachelors</td><td>4</td></tr><tr><th>10</th><td>Shannon Carlson</td><td>1964-04-01</td><td>S</td><td>Bachelors</td><td>0</td></tr></tbody></table>"
      ],
      "text/latex": [
       "\\begin{tabular}{r|ccccc}\n",
       "\t& Nome & BirthDate & MaritalStatus & Education & TotalChildren\\\\\n",
       "\t\\hline\n",
       "\t& String⍰ & ODBC…⍰ & String⍰ & String⍰ & Int8⍰\\\\\n",
       "\t\\hline\n",
       "\t1 & Julia Yang & 1966-04-08 & M & Bachelors & 2 \\\\\n",
       "\t2 & Eugene Huang & 1965-05-14 & S & Bachelors & 3 \\\\\n",
       "\t3 & Ruben Torres & 1965-08-12 & M & Bachelors & 3 \\\\\n",
       "\t4 & Christy Zhu & 1968-02-15 & S & Bachelors & 0 \\\\\n",
       "\t5 & Elizabeth Johnson & 1968-08-08 & S & Bachelors & 5 \\\\\n",
       "\t6 & Julio Ruiz & 1965-08-05 & S & Bachelors & 0 \\\\\n",
       "\t7 & Janet Alvarez & 1965-12-06 & S & Bachelors & 0 \\\\\n",
       "\t8 & Marco Mehta & 1964-05-09 & M & Bachelors & 3 \\\\\n",
       "\t9 & Rob Verhoff & 1964-07-07 & S & Bachelors & 4 \\\\\n",
       "\t10 & Shannon Carlson & 1964-04-01 & S & Bachelors & 0 \\\\\n",
       "\\end{tabular}\n"
      ],
      "text/plain": [
       "10×5 DataFrame. Omitted printing of 1 columns\n",
       "│ Row │ Nome              │ BirthDate  │ MaritalStatus │ Education │\n",
       "│     │ \u001b[90mString⍰\u001b[39m           │ \u001b[90mODBC…⍰\u001b[39m     │ \u001b[90mString⍰\u001b[39m       │ \u001b[90mString⍰\u001b[39m   │\n",
       "├─────┼───────────────────┼────────────┼───────────────┼───────────┤\n",
       "│ 1   │ Julia Yang        │ 1966-04-08 │ M             │ Bachelors │\n",
       "│ 2   │ Eugene Huang      │ 1965-05-14 │ S             │ Bachelors │\n",
       "│ 3   │ Ruben Torres      │ 1965-08-12 │ M             │ Bachelors │\n",
       "│ 4   │ Christy Zhu       │ 1968-02-15 │ S             │ Bachelors │\n",
       "│ 5   │ Elizabeth Johnson │ 1968-08-08 │ S             │ Bachelors │\n",
       "│ 6   │ Julio Ruiz        │ 1965-08-05 │ S             │ Bachelors │\n",
       "│ 7   │ Janet Alvarez     │ 1965-12-06 │ S             │ Bachelors │\n",
       "│ 8   │ Marco Mehta       │ 1964-05-09 │ M             │ Bachelors │\n",
       "│ 9   │ Rob Verhoff       │ 1964-07-07 │ S             │ Bachelors │\n",
       "│ 10  │ Shannon Carlson   │ 1964-04-01 │ S             │ Bachelors │"
      ]
     },
     "execution_count": 44,
     "metadata": {},
     "output_type": "execute_result"
    }
   ],
   "source": [
    "consulta = ODBC.query(credenciais,\n",
    "                      \"SELECT \n",
    "                           FirstName+' '+LastName AS Nome,\n",
    "                           BirthDate,\n",
    "                           MaritalStatus,\n",
    "                           Education,\n",
    "                           TotalChildren \n",
    "                       FROM [dbo].[DimCustomer]\"\n",
    "                     ) |> DataFrame!\n",
    "\n",
    "\n",
    "first(consulta,10)"
   ]
  },
  {
   "cell_type": "markdown",
   "metadata": {},
   "source": [
    "# executando UPDATE"
   ]
  },
  {
   "cell_type": "code",
   "execution_count": 31,
   "metadata": {},
   "outputs": [
    {
     "data": {
      "text/html": [
       "<table class=\"data-frame\"><thead><tr><th></th><th>Nome</th><th>BirthDate</th><th>MaritalStatus</th><th>Education</th><th>TotalChildren</th></tr><tr><th></th><th>String⍰</th><th>ODBC…⍰</th><th>String⍰</th><th>String⍰</th><th>Int8⍰</th></tr></thead><tbody><p>10 rows × 5 columns</p><tr><th>1</th><td>Julia Yang</td><td>1966-04-08</td><td>M</td><td>Bachelors</td><td>2</td></tr><tr><th>2</th><td>Eugene Huang</td><td>1965-05-14</td><td>S</td><td>Bachelors</td><td>3</td></tr><tr><th>3</th><td>Ruben Torres</td><td>1965-08-12</td><td>M</td><td>Bachelors</td><td>3</td></tr><tr><th>4</th><td>Christy Zhu</td><td>1968-02-15</td><td>S</td><td>Bachelors</td><td>0</td></tr><tr><th>5</th><td>Elizabeth Johnson</td><td>1968-08-08</td><td>S</td><td>Bachelors</td><td>5</td></tr><tr><th>6</th><td>Julio Ruiz</td><td>1965-08-05</td><td>S</td><td>Bachelors</td><td>0</td></tr><tr><th>7</th><td>Janet Alvarez</td><td>1965-12-06</td><td>S</td><td>Bachelors</td><td>0</td></tr><tr><th>8</th><td>Marco Mehta</td><td>1964-05-09</td><td>M</td><td>Bachelors</td><td>3</td></tr><tr><th>9</th><td>Rob Verhoff</td><td>1964-07-07</td><td>S</td><td>Bachelors</td><td>4</td></tr><tr><th>10</th><td>Shannon Carlson</td><td>1964-04-01</td><td>S</td><td>Bachelors</td><td>0</td></tr></tbody></table>"
      ],
      "text/latex": [
       "\\begin{tabular}{r|ccccc}\n",
       "\t& Nome & BirthDate & MaritalStatus & Education & TotalChildren\\\\\n",
       "\t\\hline\n",
       "\t& String⍰ & ODBC…⍰ & String⍰ & String⍰ & Int8⍰\\\\\n",
       "\t\\hline\n",
       "\t1 & Julia Yang & 1966-04-08 & M & Bachelors & 2 \\\\\n",
       "\t2 & Eugene Huang & 1965-05-14 & S & Bachelors & 3 \\\\\n",
       "\t3 & Ruben Torres & 1965-08-12 & M & Bachelors & 3 \\\\\n",
       "\t4 & Christy Zhu & 1968-02-15 & S & Bachelors & 0 \\\\\n",
       "\t5 & Elizabeth Johnson & 1968-08-08 & S & Bachelors & 5 \\\\\n",
       "\t6 & Julio Ruiz & 1965-08-05 & S & Bachelors & 0 \\\\\n",
       "\t7 & Janet Alvarez & 1965-12-06 & S & Bachelors & 0 \\\\\n",
       "\t8 & Marco Mehta & 1964-05-09 & M & Bachelors & 3 \\\\\n",
       "\t9 & Rob Verhoff & 1964-07-07 & S & Bachelors & 4 \\\\\n",
       "\t10 & Shannon Carlson & 1964-04-01 & S & Bachelors & 0 \\\\\n",
       "\\end{tabular}\n"
      ],
      "text/plain": [
       "10×5 DataFrame. Omitted printing of 1 columns\n",
       "│ Row │ Nome              │ BirthDate  │ MaritalStatus │ Education │\n",
       "│     │ \u001b[90mString⍰\u001b[39m           │ \u001b[90mODBC…⍰\u001b[39m     │ \u001b[90mString⍰\u001b[39m       │ \u001b[90mString⍰\u001b[39m   │\n",
       "├─────┼───────────────────┼────────────┼───────────────┼───────────┤\n",
       "│ 1   │ Julia Yang        │ 1966-04-08 │ M             │ Bachelors │\n",
       "│ 2   │ Eugene Huang      │ 1965-05-14 │ S             │ Bachelors │\n",
       "│ 3   │ Ruben Torres      │ 1965-08-12 │ M             │ Bachelors │\n",
       "│ 4   │ Christy Zhu       │ 1968-02-15 │ S             │ Bachelors │\n",
       "│ 5   │ Elizabeth Johnson │ 1968-08-08 │ S             │ Bachelors │\n",
       "│ 6   │ Julio Ruiz        │ 1965-08-05 │ S             │ Bachelors │\n",
       "│ 7   │ Janet Alvarez     │ 1965-12-06 │ S             │ Bachelors │\n",
       "│ 8   │ Marco Mehta       │ 1964-05-09 │ M             │ Bachelors │\n",
       "│ 9   │ Rob Verhoff       │ 1964-07-07 │ S             │ Bachelors │\n",
       "│ 10  │ Shannon Carlson   │ 1964-04-01 │ S             │ Bachelors │"
      ]
     },
     "execution_count": 31,
     "metadata": {},
     "output_type": "execute_result"
    }
   ],
   "source": [
    "ODBC.execute!(credenciais, \"UPDATE [dbo].[DimCustomer] \n",
    "                            set FirstName ='Julia' \n",
    "                            WHERE FirstName = 'RM@@@@@@@@@@@@@'\")\n",
    "\n",
    "select = ODBC.query(credenciais,\n",
    "                      \"SELECT \n",
    "                           FirstName+' '+LastName AS Nome,\n",
    "                           BirthDate,\n",
    "                           MaritalStatus,\n",
    "                           Education,\n",
    "                           TotalChildren \n",
    "                       FROM [dbo].[DimCustomer]\"\n",
    "                    ) |> DataFrame!\n",
    "\n",
    "\n",
    "first(select , 10)"
   ]
  },
  {
   "cell_type": "markdown",
   "metadata": {},
   "source": [
    "# Clonar Tabela"
   ]
  },
  {
   "cell_type": "code",
   "execution_count": 36,
   "metadata": {},
   "outputs": [
    {
     "data": {
      "text/html": [
       "<table class=\"data-frame\"><thead><tr><th></th><th>Nome</th><th>BirthDate</th><th>MaritalStatus</th><th>Education</th><th>TotalChildren</th></tr><tr><th></th><th>String⍰</th><th>ODBC…⍰</th><th>String⍰</th><th>String⍰</th><th>Int8⍰</th></tr></thead><tbody><p>10 rows × 5 columns</p><tr><th>1</th><td>Julia Yang</td><td>1966-04-08</td><td>M</td><td>Bachelors</td><td>2</td></tr><tr><th>2</th><td>Eugene Huang</td><td>1965-05-14</td><td>S</td><td>Bachelors</td><td>3</td></tr><tr><th>3</th><td>Ruben Torres</td><td>1965-08-12</td><td>M</td><td>Bachelors</td><td>3</td></tr><tr><th>4</th><td>Christy Zhu</td><td>1968-02-15</td><td>S</td><td>Bachelors</td><td>0</td></tr><tr><th>5</th><td>Elizabeth Johnson</td><td>1968-08-08</td><td>S</td><td>Bachelors</td><td>5</td></tr><tr><th>6</th><td>Julio Ruiz</td><td>1965-08-05</td><td>S</td><td>Bachelors</td><td>0</td></tr><tr><th>7</th><td>Janet Alvarez</td><td>1965-12-06</td><td>S</td><td>Bachelors</td><td>0</td></tr><tr><th>8</th><td>Marco Mehta</td><td>1964-05-09</td><td>M</td><td>Bachelors</td><td>3</td></tr><tr><th>9</th><td>Rob Verhoff</td><td>1964-07-07</td><td>S</td><td>Bachelors</td><td>4</td></tr><tr><th>10</th><td>Shannon Carlson</td><td>1964-04-01</td><td>S</td><td>Bachelors</td><td>0</td></tr></tbody></table>"
      ],
      "text/latex": [
       "\\begin{tabular}{r|ccccc}\n",
       "\t& Nome & BirthDate & MaritalStatus & Education & TotalChildren\\\\\n",
       "\t\\hline\n",
       "\t& String⍰ & ODBC…⍰ & String⍰ & String⍰ & Int8⍰\\\\\n",
       "\t\\hline\n",
       "\t1 & Julia Yang & 1966-04-08 & M & Bachelors & 2 \\\\\n",
       "\t2 & Eugene Huang & 1965-05-14 & S & Bachelors & 3 \\\\\n",
       "\t3 & Ruben Torres & 1965-08-12 & M & Bachelors & 3 \\\\\n",
       "\t4 & Christy Zhu & 1968-02-15 & S & Bachelors & 0 \\\\\n",
       "\t5 & Elizabeth Johnson & 1968-08-08 & S & Bachelors & 5 \\\\\n",
       "\t6 & Julio Ruiz & 1965-08-05 & S & Bachelors & 0 \\\\\n",
       "\t7 & Janet Alvarez & 1965-12-06 & S & Bachelors & 0 \\\\\n",
       "\t8 & Marco Mehta & 1964-05-09 & M & Bachelors & 3 \\\\\n",
       "\t9 & Rob Verhoff & 1964-07-07 & S & Bachelors & 4 \\\\\n",
       "\t10 & Shannon Carlson & 1964-04-01 & S & Bachelors & 0 \\\\\n",
       "\\end{tabular}\n"
      ],
      "text/plain": [
       "10×5 DataFrame. Omitted printing of 1 columns\n",
       "│ Row │ Nome              │ BirthDate  │ MaritalStatus │ Education │\n",
       "│     │ \u001b[90mString⍰\u001b[39m           │ \u001b[90mODBC…⍰\u001b[39m     │ \u001b[90mString⍰\u001b[39m       │ \u001b[90mString⍰\u001b[39m   │\n",
       "├─────┼───────────────────┼────────────┼───────────────┼───────────┤\n",
       "│ 1   │ Julia Yang        │ 1966-04-08 │ M             │ Bachelors │\n",
       "│ 2   │ Eugene Huang      │ 1965-05-14 │ S             │ Bachelors │\n",
       "│ 3   │ Ruben Torres      │ 1965-08-12 │ M             │ Bachelors │\n",
       "│ 4   │ Christy Zhu       │ 1968-02-15 │ S             │ Bachelors │\n",
       "│ 5   │ Elizabeth Johnson │ 1968-08-08 │ S             │ Bachelors │\n",
       "│ 6   │ Julio Ruiz        │ 1965-08-05 │ S             │ Bachelors │\n",
       "│ 7   │ Janet Alvarez     │ 1965-12-06 │ S             │ Bachelors │\n",
       "│ 8   │ Marco Mehta       │ 1964-05-09 │ M             │ Bachelors │\n",
       "│ 9   │ Rob Verhoff       │ 1964-07-07 │ S             │ Bachelors │\n",
       "│ 10  │ Shannon Carlson   │ 1964-04-01 │ S             │ Bachelors │"
      ]
     },
     "execution_count": 36,
     "metadata": {},
     "output_type": "execute_result"
    }
   ],
   "source": [
    "ODBC.execute!(credenciais, \"select * INTO NovaTabela \n",
    "                            FROM [dbo].[DimCustomer]\")\n",
    "\n",
    "select = ODBC.query(credenciais,\n",
    "                      \"SELECT \n",
    "                           FirstName+' '+LastName AS Nome,\n",
    "                           BirthDate,\n",
    "                           MaritalStatus,\n",
    "                           Education,\n",
    "                           TotalChildren \n",
    "                       FROM [dbo].[NovaTabela]\"\n",
    "                    ) |> DataFrame!\n",
    "\n",
    "\n",
    "first(select , 10)"
   ]
  },
  {
   "cell_type": "markdown",
   "metadata": {},
   "source": [
    "# DELETE"
   ]
  },
  {
   "cell_type": "code",
   "execution_count": 38,
   "metadata": {},
   "outputs": [
    {
     "data": {
      "text/html": [
       "<table class=\"data-frame\"><thead><tr><th></th><th>Nome</th><th>BirthDate</th><th>MaritalStatus</th><th>Education</th><th>TotalChildren</th></tr><tr><th></th><th>String⍰</th><th>ODBC…⍰</th><th>String⍰</th><th>String⍰</th><th>Int8⍰</th></tr></thead><tbody><p>10 rows × 5 columns</p><tr><th>1</th><td>Eugene Huang</td><td>1965-05-14</td><td>S</td><td>Bachelors</td><td>3</td></tr><tr><th>2</th><td>Ruben Torres</td><td>1965-08-12</td><td>M</td><td>Bachelors</td><td>3</td></tr><tr><th>3</th><td>Christy Zhu</td><td>1968-02-15</td><td>S</td><td>Bachelors</td><td>0</td></tr><tr><th>4</th><td>Elizabeth Johnson</td><td>1968-08-08</td><td>S</td><td>Bachelors</td><td>5</td></tr><tr><th>5</th><td>Julio Ruiz</td><td>1965-08-05</td><td>S</td><td>Bachelors</td><td>0</td></tr><tr><th>6</th><td>Janet Alvarez</td><td>1965-12-06</td><td>S</td><td>Bachelors</td><td>0</td></tr><tr><th>7</th><td>Marco Mehta</td><td>1964-05-09</td><td>M</td><td>Bachelors</td><td>3</td></tr><tr><th>8</th><td>Rob Verhoff</td><td>1964-07-07</td><td>S</td><td>Bachelors</td><td>4</td></tr><tr><th>9</th><td>Shannon Carlson</td><td>1964-04-01</td><td>S</td><td>Bachelors</td><td>0</td></tr><tr><th>10</th><td>Jacquelyn Suarez</td><td>1964-02-06</td><td>S</td><td>Bachelors</td><td>0</td></tr></tbody></table>"
      ],
      "text/latex": [
       "\\begin{tabular}{r|ccccc}\n",
       "\t& Nome & BirthDate & MaritalStatus & Education & TotalChildren\\\\\n",
       "\t\\hline\n",
       "\t& String⍰ & ODBC…⍰ & String⍰ & String⍰ & Int8⍰\\\\\n",
       "\t\\hline\n",
       "\t1 & Eugene Huang & 1965-05-14 & S & Bachelors & 3 \\\\\n",
       "\t2 & Ruben Torres & 1965-08-12 & M & Bachelors & 3 \\\\\n",
       "\t3 & Christy Zhu & 1968-02-15 & S & Bachelors & 0 \\\\\n",
       "\t4 & Elizabeth Johnson & 1968-08-08 & S & Bachelors & 5 \\\\\n",
       "\t5 & Julio Ruiz & 1965-08-05 & S & Bachelors & 0 \\\\\n",
       "\t6 & Janet Alvarez & 1965-12-06 & S & Bachelors & 0 \\\\\n",
       "\t7 & Marco Mehta & 1964-05-09 & M & Bachelors & 3 \\\\\n",
       "\t8 & Rob Verhoff & 1964-07-07 & S & Bachelors & 4 \\\\\n",
       "\t9 & Shannon Carlson & 1964-04-01 & S & Bachelors & 0 \\\\\n",
       "\t10 & Jacquelyn Suarez & 1964-02-06 & S & Bachelors & 0 \\\\\n",
       "\\end{tabular}\n"
      ],
      "text/plain": [
       "10×5 DataFrame. Omitted printing of 1 columns\n",
       "│ Row │ Nome              │ BirthDate  │ MaritalStatus │ Education │\n",
       "│     │ \u001b[90mString⍰\u001b[39m           │ \u001b[90mODBC…⍰\u001b[39m     │ \u001b[90mString⍰\u001b[39m       │ \u001b[90mString⍰\u001b[39m   │\n",
       "├─────┼───────────────────┼────────────┼───────────────┼───────────┤\n",
       "│ 1   │ Eugene Huang      │ 1965-05-14 │ S             │ Bachelors │\n",
       "│ 2   │ Ruben Torres      │ 1965-08-12 │ M             │ Bachelors │\n",
       "│ 3   │ Christy Zhu       │ 1968-02-15 │ S             │ Bachelors │\n",
       "│ 4   │ Elizabeth Johnson │ 1968-08-08 │ S             │ Bachelors │\n",
       "│ 5   │ Julio Ruiz        │ 1965-08-05 │ S             │ Bachelors │\n",
       "│ 6   │ Janet Alvarez     │ 1965-12-06 │ S             │ Bachelors │\n",
       "│ 7   │ Marco Mehta       │ 1964-05-09 │ M             │ Bachelors │\n",
       "│ 8   │ Rob Verhoff       │ 1964-07-07 │ S             │ Bachelors │\n",
       "│ 9   │ Shannon Carlson   │ 1964-04-01 │ S             │ Bachelors │\n",
       "│ 10  │ Jacquelyn Suarez  │ 1964-02-06 │ S             │ Bachelors │"
      ]
     },
     "execution_count": 38,
     "metadata": {},
     "output_type": "execute_result"
    }
   ],
   "source": [
    "ODBC.execute!(credenciais, \"DELETE FROM [dbo].[NovaTabela] \n",
    "                            WHERE FirstName = 'Julia' \")\n",
    "\n",
    "select = ODBC.query(credenciais,\n",
    "                      \"SELECT \n",
    "                           FirstName+' '+LastName AS Nome,\n",
    "                           BirthDate,\n",
    "                           MaritalStatus,\n",
    "                           Education,\n",
    "                           TotalChildren \n",
    "                       FROM [dbo].[NovaTabela]\"\n",
    "                    ) |> DataFrame!\n",
    "\n",
    "first(select, 10)"
   ]
  },
  {
   "cell_type": "code",
   "execution_count": 39,
   "metadata": {},
   "outputs": [
    {
     "data": {
      "text/html": [
       "<table class=\"data-frame\"><thead><tr><th></th><th>Tables</th></tr><tr><th></th><th>String⍰</th></tr></thead><tbody><p>28 rows × 1 columns</p><tr><th>1</th><td>DimAccount</td></tr><tr><th>2</th><td>DimChannel</td></tr><tr><th>3</th><td>DimCurrency</td></tr><tr><th>4</th><td>DimCustomer</td></tr><tr><th>5</th><td>DimDate</td></tr><tr><th>6</th><td>DimEmployee</td></tr><tr><th>7</th><td>DimEntity</td></tr><tr><th>8</th><td>DimGeography</td></tr><tr><th>9</th><td>DimMachine</td></tr><tr><th>10</th><td>DimOutage</td></tr><tr><th>11</th><td>DimProduct</td></tr><tr><th>12</th><td>DimProductCategory</td></tr><tr><th>13</th><td>DimProductSubcategory</td></tr><tr><th>14</th><td>DimPromotion</td></tr><tr><th>15</th><td>DimSalesTerritory</td></tr><tr><th>16</th><td>DimScenario</td></tr><tr><th>17</th><td>DimStore</td></tr><tr><th>18</th><td>FactExchangeRate</td></tr><tr><th>19</th><td>FactInventory</td></tr><tr><th>20</th><td>FactITMachine</td></tr><tr><th>21</th><td>FactITSLA</td></tr><tr><th>22</th><td>FactOnlineSales</td></tr><tr><th>23</th><td>FactSales</td></tr><tr><th>24</th><td>FactSalesQuota</td></tr><tr><th>25</th><td>FactStrategyPlan</td></tr><tr><th>26</th><td>NewTable</td></tr><tr><th>27</th><td>NovaTabela</td></tr><tr><th>28</th><td>sysdiagrams</td></tr></tbody></table>"
      ],
      "text/latex": [
       "\\begin{tabular}{r|c}\n",
       "\t& Tables\\\\\n",
       "\t\\hline\n",
       "\t& String⍰\\\\\n",
       "\t\\hline\n",
       "\t1 & DimAccount \\\\\n",
       "\t2 & DimChannel \\\\\n",
       "\t3 & DimCurrency \\\\\n",
       "\t4 & DimCustomer \\\\\n",
       "\t5 & DimDate \\\\\n",
       "\t6 & DimEmployee \\\\\n",
       "\t7 & DimEntity \\\\\n",
       "\t8 & DimGeography \\\\\n",
       "\t9 & DimMachine \\\\\n",
       "\t10 & DimOutage \\\\\n",
       "\t11 & DimProduct \\\\\n",
       "\t12 & DimProductCategory \\\\\n",
       "\t13 & DimProductSubcategory \\\\\n",
       "\t14 & DimPromotion \\\\\n",
       "\t15 & DimSalesTerritory \\\\\n",
       "\t16 & DimScenario \\\\\n",
       "\t17 & DimStore \\\\\n",
       "\t18 & FactExchangeRate \\\\\n",
       "\t19 & FactInventory \\\\\n",
       "\t20 & FactITMachine \\\\\n",
       "\t21 & FactITSLA \\\\\n",
       "\t22 & FactOnlineSales \\\\\n",
       "\t23 & FactSales \\\\\n",
       "\t24 & FactSalesQuota \\\\\n",
       "\t25 & FactStrategyPlan \\\\\n",
       "\t26 & NewTable \\\\\n",
       "\t27 & NovaTabela \\\\\n",
       "\t28 & sysdiagrams \\\\\n",
       "\\end{tabular}\n"
      ],
      "text/plain": [
       "28×1 DataFrame\n",
       "│ Row │ Tables           │\n",
       "│     │ \u001b[90mString⍰\u001b[39m          │\n",
       "├─────┼──────────────────┤\n",
       "│ 1   │ DimAccount       │\n",
       "│ 2   │ DimChannel       │\n",
       "│ 3   │ DimCurrency      │\n",
       "│ 4   │ DimCustomer      │\n",
       "│ 5   │ DimDate          │\n",
       "│ 6   │ DimEmployee      │\n",
       "│ 7   │ DimEntity        │\n",
       "│ 8   │ DimGeography     │\n",
       "│ 9   │ DimMachine       │\n",
       "│ 10  │ DimOutage        │\n",
       "⋮\n",
       "│ 18  │ FactExchangeRate │\n",
       "│ 19  │ FactInventory    │\n",
       "│ 20  │ FactITMachine    │\n",
       "│ 21  │ FactITSLA        │\n",
       "│ 22  │ FactOnlineSales  │\n",
       "│ 23  │ FactSales        │\n",
       "│ 24  │ FactSalesQuota   │\n",
       "│ 25  │ FactStrategyPlan │\n",
       "│ 26  │ NewTable         │\n",
       "│ 27  │ NovaTabela       │\n",
       "│ 28  │ sysdiagrams      │"
      ]
     },
     "execution_count": 39,
     "metadata": {},
     "output_type": "execute_result"
    }
   ],
   "source": [
    "select = ODBC.query(credenciais,\n",
    "                      \"SELECT \n",
    "                           name AS Tables \n",
    "                       FROM SYSOBJECTS WHERE XTYPE='U' ORDER BY name\"\n",
    "                   ) |> DataFrame!"
   ]
  },
  {
   "cell_type": "code",
   "execution_count": 40,
   "metadata": {},
   "outputs": [
    {
     "data": {
      "text/html": [
       "<table class=\"data-frame\"><thead><tr><th></th><th>Tables</th></tr><tr><th></th><th>String⍰</th></tr></thead><tbody><p>27 rows × 1 columns</p><tr><th>1</th><td>DimAccount</td></tr><tr><th>2</th><td>DimChannel</td></tr><tr><th>3</th><td>DimCurrency</td></tr><tr><th>4</th><td>DimCustomer</td></tr><tr><th>5</th><td>DimDate</td></tr><tr><th>6</th><td>DimEmployee</td></tr><tr><th>7</th><td>DimEntity</td></tr><tr><th>8</th><td>DimGeography</td></tr><tr><th>9</th><td>DimMachine</td></tr><tr><th>10</th><td>DimOutage</td></tr><tr><th>11</th><td>DimProduct</td></tr><tr><th>12</th><td>DimProductCategory</td></tr><tr><th>13</th><td>DimProductSubcategory</td></tr><tr><th>14</th><td>DimPromotion</td></tr><tr><th>15</th><td>DimSalesTerritory</td></tr><tr><th>16</th><td>DimScenario</td></tr><tr><th>17</th><td>DimStore</td></tr><tr><th>18</th><td>FactExchangeRate</td></tr><tr><th>19</th><td>FactInventory</td></tr><tr><th>20</th><td>FactITMachine</td></tr><tr><th>21</th><td>FactITSLA</td></tr><tr><th>22</th><td>FactOnlineSales</td></tr><tr><th>23</th><td>FactSales</td></tr><tr><th>24</th><td>FactSalesQuota</td></tr><tr><th>25</th><td>FactStrategyPlan</td></tr><tr><th>26</th><td>NewTable</td></tr><tr><th>27</th><td>sysdiagrams</td></tr></tbody></table>"
      ],
      "text/latex": [
       "\\begin{tabular}{r|c}\n",
       "\t& Tables\\\\\n",
       "\t\\hline\n",
       "\t& String⍰\\\\\n",
       "\t\\hline\n",
       "\t1 & DimAccount \\\\\n",
       "\t2 & DimChannel \\\\\n",
       "\t3 & DimCurrency \\\\\n",
       "\t4 & DimCustomer \\\\\n",
       "\t5 & DimDate \\\\\n",
       "\t6 & DimEmployee \\\\\n",
       "\t7 & DimEntity \\\\\n",
       "\t8 & DimGeography \\\\\n",
       "\t9 & DimMachine \\\\\n",
       "\t10 & DimOutage \\\\\n",
       "\t11 & DimProduct \\\\\n",
       "\t12 & DimProductCategory \\\\\n",
       "\t13 & DimProductSubcategory \\\\\n",
       "\t14 & DimPromotion \\\\\n",
       "\t15 & DimSalesTerritory \\\\\n",
       "\t16 & DimScenario \\\\\n",
       "\t17 & DimStore \\\\\n",
       "\t18 & FactExchangeRate \\\\\n",
       "\t19 & FactInventory \\\\\n",
       "\t20 & FactITMachine \\\\\n",
       "\t21 & FactITSLA \\\\\n",
       "\t22 & FactOnlineSales \\\\\n",
       "\t23 & FactSales \\\\\n",
       "\t24 & FactSalesQuota \\\\\n",
       "\t25 & FactStrategyPlan \\\\\n",
       "\t26 & NewTable \\\\\n",
       "\t27 & sysdiagrams \\\\\n",
       "\\end{tabular}\n"
      ],
      "text/plain": [
       "27×1 DataFrame\n",
       "│ Row │ Tables           │\n",
       "│     │ \u001b[90mString⍰\u001b[39m          │\n",
       "├─────┼──────────────────┤\n",
       "│ 1   │ DimAccount       │\n",
       "│ 2   │ DimChannel       │\n",
       "│ 3   │ DimCurrency      │\n",
       "│ 4   │ DimCustomer      │\n",
       "│ 5   │ DimDate          │\n",
       "│ 6   │ DimEmployee      │\n",
       "│ 7   │ DimEntity        │\n",
       "│ 8   │ DimGeography     │\n",
       "│ 9   │ DimMachine       │\n",
       "│ 10  │ DimOutage        │\n",
       "⋮\n",
       "│ 17  │ DimStore         │\n",
       "│ 18  │ FactExchangeRate │\n",
       "│ 19  │ FactInventory    │\n",
       "│ 20  │ FactITMachine    │\n",
       "│ 21  │ FactITSLA        │\n",
       "│ 22  │ FactOnlineSales  │\n",
       "│ 23  │ FactSales        │\n",
       "│ 24  │ FactSalesQuota   │\n",
       "│ 25  │ FactStrategyPlan │\n",
       "│ 26  │ NewTable         │\n",
       "│ 27  │ sysdiagrams      │"
      ]
     },
     "execution_count": 40,
     "metadata": {},
     "output_type": "execute_result"
    }
   ],
   "source": [
    "ODBC.execute!(credenciais, \"DROP TABLE [dbo].[NovaTabela]\")\n",
    "\n",
    "select = ODBC.query(credenciais,\n",
    "                      \"SELECT \n",
    "                           name AS Tables \n",
    "                       FROM SYSOBJECTS WHERE XTYPE='U' ORDER BY name\"\n",
    "                   ) |> DataFrame!"
   ]
  },
  {
   "cell_type": "code",
   "execution_count": 41,
   "metadata": {},
   "outputs": [],
   "source": [
    "# fechando a conexão com o banco de dados\n",
    "ODBC.disconnect!(credenciais)"
   ]
  },
  {
   "cell_type": "code",
   "execution_count": null,
   "metadata": {},
   "outputs": [],
   "source": []
  }
 ],
 "metadata": {
  "kernelspec": {
   "display_name": "Julia 1.3.1",
   "language": "julia",
   "name": "julia-1.3"
  },
  "language_info": {
   "file_extension": ".jl",
   "mimetype": "application/julia",
   "name": "julia",
   "version": "1.3.1"
  }
 },
 "nbformat": 4,
 "nbformat_minor": 4
}
